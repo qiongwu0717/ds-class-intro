{
 "cells": [
  {
   "cell_type": "code",
   "execution_count": 10,
   "metadata": {},
   "outputs": [
    {
     "name": "stdout",
     "output_type": "stream",
     "text": [
      "1505\n",
      "1540\n",
      "1575\n",
      "1610\n",
      "1645\n",
      "1680\n",
      "1715\n",
      "1750\n",
      "1785\n",
      "1820\n",
      "1855\n",
      "1890\n",
      "1925\n",
      "1960\n",
      "1995\n",
      "2030\n",
      "2065\n",
      "2100\n",
      "2135\n",
      "2170\n",
      "2205\n",
      "2240\n",
      "2275\n",
      "2310\n",
      "2345\n",
      "2380\n",
      "2415\n",
      "2450\n",
      "2485\n",
      "2520\n",
      "2555\n",
      "2590\n",
      "2625\n",
      "2660\n",
      "2695\n"
     ]
    }
   ],
   "source": [
    "'''\n",
    "Edit this file to complete Exercise 5\n",
    "'''\n",
    "\n",
    "# 1. write a Python program to find those numbers which are divisible by 7 and multiple of 5, between 1500 and 2700 (both included).\n",
    "\n",
    "# code up your solution here\n",
    "for i in range(1500,2700):\n",
    "    if i%7==0 and i%5==0:\n",
    "        print(i)\n",
    "        continue\n",
    "        \n",
    "#######  QUESTION: works fine without \"continue\" and \"i+=1\", why?"
   ]
  },
  {
   "cell_type": "code",
   "execution_count": 61,
   "metadata": {},
   "outputs": [
    {
     "name": "stdout",
     "output_type": "stream",
     "text": [
      ">>> Number of even numbers : 4\n",
      ">>> Number of odd numbers : 5\n"
     ]
    }
   ],
   "source": [
    "# 2. Write a Python program to count the number of even and odd numbers from a series of numbers.\n",
    "\n",
    "# example: numbers = (1, 2, 3, 4, 5, 6, 7, 8, 9)\n",
    "# output:\n",
    "# >>> Number of even numbers : 4\n",
    "# >>> Number of odd numbers : 5\n",
    "\n",
    "# code up your solution here\n",
    "\n",
    "numbers = {1,2,3,4,5,6,7,8,9}\n",
    "e_count=0\n",
    "o_count=0\n",
    "for i in numbers:\n",
    "    if i%2==0:\n",
    "        e_count+=1\n",
    "    else: o_count+=1\n",
    "    continue\n",
    "        \n",
    "print(\">>> Number of even numbers :\", e_count)\n",
    "print(\">>> Number of odd numbers :\", o_count)"
   ]
  },
  {
   "cell_type": "code",
   "execution_count": 48,
   "metadata": {},
   "outputs": [
    {
     "name": "stdout",
     "output_type": "stream",
     "text": [
      "FizzBuzz\n",
      "1\n",
      "2\n",
      "Fizz\n",
      "4\n",
      "Buzz\n",
      "Fizz\n",
      "7\n",
      "8\n",
      "Fizz\n",
      "Buzz\n",
      "11\n",
      "Fizz\n",
      "13\n",
      "14\n",
      "FizzBuzz\n",
      "16\n",
      "17\n",
      "Fizz\n",
      "19\n",
      "Buzz\n",
      "Fizz\n",
      "22\n",
      "23\n",
      "Fizz\n",
      "Buzz\n",
      "26\n",
      "Fizz\n",
      "28\n",
      "29\n",
      "FizzBuzz\n",
      "31\n",
      "32\n",
      "Fizz\n",
      "34\n",
      "Buzz\n",
      "Fizz\n",
      "37\n",
      "38\n",
      "Fizz\n",
      "Buzz\n",
      "41\n",
      "Fizz\n",
      "43\n",
      "44\n",
      "FizzBuzz\n",
      "46\n",
      "47\n",
      "Fizz\n",
      "49\n"
     ]
    }
   ],
   "source": [
    "# 3. Write a Python program which iterates the integers from 0 to 50. \n",
    "# For multiples of three print \"Fizz\" instead of the number and \n",
    "# For the multiples of five print \"Buzz\". \n",
    "# For numbers which are multiples of both three and five print \"FizzBuzz\".\n",
    "\n",
    "# Expected Output :\n",
    "# >>> fizzbuzz\n",
    "# >>> 1\n",
    "# >>> 2\n",
    "# >>> fizz\n",
    "# >>> 4\n",
    "# >>> buzz\n",
    "# >>> ...\n",
    "\n",
    "# code up your solution here\n",
    "\n",
    "for i in range(0,50):\n",
    "    if i%3==0 and i%5==0: \n",
    "        print(\"FizzBuzz\")\n",
    "    elif i%5==0:\n",
    "            print(\"Buzz\")\n",
    "    elif i%3==0:\n",
    "            print(\"Fizz\")\n",
    "    else:\n",
    "        print(i)\n",
    "    \n",
    "    "
   ]
  },
  {
   "cell_type": "code",
   "execution_count": 58,
   "metadata": {},
   "outputs": [
    {
     "name": "stdout",
     "output_type": "stream",
     "text": [
      "15\n",
      "55\n",
      "75\n",
      "150\n"
     ]
    }
   ],
   "source": [
    "# 4. Given a list iterate it and display numbers which are divisible by 5 and if you find number greater \n",
    "# than 150 stop the loop iteration\n",
    "\n",
    "# examples: list1 = [12, 15, 32, 42, 55, 75, 122, 132, 150, 180, 200]\n",
    "# output:\n",
    "# >>> 15\n",
    "# >>> 55\n",
    "# >>> 75\n",
    "# >>> 150\n",
    "\n",
    "# code up your solution here\n",
    "\n",
    "list1 = [12, 15, 32, 42, 55, 75, 122, 132, 150, 180, 80, 200]\n",
    "for i in list1:\n",
    "    if i%5==0 and i<=150:\n",
    "        print(i)  \n",
    "    elif i>150:\n",
    "        break\n",
    "      "
   ]
  },
  {
   "cell_type": "code",
   "execution_count": 25,
   "metadata": {
    "scrolled": true
   },
   "outputs": [
    {
     "name": "stdout",
     "output_type": "stream",
     "text": [
      ">>> Number of even numbers : 4\n",
      ">>> Number of odd numbers : 4\n"
     ]
    }
   ],
   "source": [
    "# 5. Pick one of the questions above and use range() for a different solution\n",
    "\n",
    "# code up your solution here\n",
    "\n",
    "# example: numbers = (1, 2, 3, 4, 5, 6, 7, 8, 9)\n",
    "# output:\n",
    "# >>> Number of even numbers : 4\n",
    "# >>> Number of odd numbers : 5\n",
    "\n",
    "# code up your solution here\n",
    "\n",
    "e_count=0\n",
    "o_count=0\n",
    "for i in range(1,9):\n",
    "    if i%2==0 and i<=9:\n",
    "        e_count+=1\n",
    "        #print(i)\n",
    "    else: \n",
    "        #print(i)\n",
    "        o_count+=1\n",
    "        \n",
    "    continue\n",
    "        \n",
    "print(\">>> Number of even numbers :\", e_count)\n",
    "print(\">>> Number of odd numbers :\", o_count)\n",
    "\n",
    "\n",
    "##### by using range or string, it returns different result?"
   ]
  },
  {
   "cell_type": "code",
<<<<<<< HEAD
   "execution_count": 4,
   "metadata": {},
   "outputs": [
    {
     "ename": "SyntaxError",
     "evalue": "invalid syntax (<ipython-input-4-3ca17da478b5>, line 18)",
     "output_type": "error",
     "traceback": [
      "\u001b[0;36m  File \u001b[0;32m\"<ipython-input-4-3ca17da478b5>\"\u001b[0;36m, line \u001b[0;32m18\u001b[0m\n\u001b[0;31m    list2 = [i for i in list1 if i%5==0 and i<=150 else break]\u001b[0m\n\u001b[0m                                                   ^\u001b[0m\n\u001b[0;31mSyntaxError\u001b[0m\u001b[0;31m:\u001b[0m invalid syntax\n"
=======
   "execution_count": 21,
   "metadata": {},
   "outputs": [
    {
     "name": "stdout",
     "output_type": "stream",
     "text": [
      "[15, 55, 75, 150, 80]\n"
>>>>>>> master
     ]
    }
   ],
   "source": [
    "# 6. Pick one of the question above and use comprehension for a different solution\n",
    "\n",
    "# code up your solution hereb\n",
    "\n",
    "# 4. Given a list iterate it and display numbers which are divisible by 5 and if you find number greater \n",
    "# than 150 stop the loop iteration\n",
    "\n",
    "# examples: list1 = [12, 15, 32, 42, 55, 75, 122, 132, 150, 180, 200]\n",
    "# output:\n",
    "# >>> 15\n",
    "# >>> 55\n",
    "# >>> 75\n",
    "# >>> 150\n",
    "\n",
    "# code up your solution here\n",
    "\n",
    "list1 = [12, 15, 32, 42, 55, 75, 122, 132, 150, 180, 80, 200]\n",
<<<<<<< HEAD
    "list2 = [i for i in list1 if i%5==0 and i<=150 else break]\n",
=======
    "list2 = [i for i in list1 if i%5==0 and i<=150 ]\n",
>>>>>>> master
    "print(list2)\n",
    "\n",
    "####### Question: how to Break in list comprehansion if i>150?"
   ]
  },
  {
   "cell_type": "code",
   "execution_count": null,
   "metadata": {},
   "outputs": [],
   "source": [
    "# 7. Pick one of the questions above and use while loop for a different solution\n",
    "\n",
    "# code up your solution here"
   ]
  }
 ],
 "metadata": {
  "kernelspec": {
   "display_name": "Python 3",
   "language": "python",
   "name": "python3"
  },
  "language_info": {
   "codemirror_mode": {
    "name": "ipython",
    "version": 3
   },
   "file_extension": ".py",
   "mimetype": "text/x-python",
   "name": "python",
   "nbconvert_exporter": "python",
   "pygments_lexer": "ipython3",
   "version": "3.8.2"
  }
 },
 "nbformat": 4,
 "nbformat_minor": 4
}
